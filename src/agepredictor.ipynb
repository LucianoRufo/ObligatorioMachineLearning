{
 "metadata": {
  "language_info": {
   "codemirror_mode": {
    "name": "ipython",
    "version": 3
   },
   "file_extension": ".py",
   "mimetype": "text/x-python",
   "name": "python",
   "nbconvert_exporter": "python",
   "pygments_lexer": "ipython3",
   "version": "3.8.5-final"
  },
  "orig_nbformat": 2,
  "kernelspec": {
   "name": "python38532bited2319c606134444b9a4b4aac3a58c82",
   "display_name": "Python 3.8.5 32-bit"
  }
 },
 "nbformat": 4,
 "nbformat_minor": 2,
 "cells": [
  {
   "cell_type": "code",
   "execution_count": 4,
   "metadata": {},
   "outputs": [
    {
     "output_type": "stream",
     "name": "stdout",
     "text": [
      "../data/tweet_data.csv\n"
     ]
    }
   ],
   "source": [
    "import pandas as pd\n",
    "import numpy as np # linear algebra\n",
    "import pandas as pd # data processing, CSV file I/O (e.g. pd.read_csv)\n",
    "\n",
    "# Input data files are available in the read-only \"../input/\" directory\n",
    "# For example, running this (by clicking run or pressing Shift+Enter) will list all files under the input directory\n",
    "\n",
    "import os\n",
    "for dirname, _, filenames in os.walk('../data/'):\n",
    "    for filename in filenames:\n",
    "        print(os.path.join(dirname, filename))\n",
    "\n",
    "\n"
   ]
  },
  {
   "cell_type": "code",
   "execution_count": 8,
   "metadata": {},
   "outputs": [
    {
     "output_type": "execute_result",
     "data": {
      "text/plain": [
       "       screen_name  friends_count  tweets_count  linkedin  snapchat  \\\n",
       "0   ezequielreal10            659           190         0         0   \n",
       "1  caamilachaparro           1559         33525         0         0   \n",
       "2   crisalonsofran           2120         24051         0         0   \n",
       "3      jluisfoglia            150          4157         0         0   \n",
       "4   maiikoldadamia            131          1096         0         0   \n",
       "\n",
       "   instagram  facebook  followers_count  favourites_count  qtyMentions  \\\n",
       "0          0         0              262              1611         0.09   \n",
       "1          0         0             2990             15112         0.56   \n",
       "2          0         0             2160              2377         0.82   \n",
       "3          0         0               98              1128         0.91   \n",
       "4          0         0              189               849         0.20   \n",
       "\n",
       "   qtyHashtags  qtyUrls  qtyEmojis  qtyUppercase  profile_pic_gender  \\\n",
       "0         0.04     0.00       2.05          4.18                   0   \n",
       "1         0.00     0.11       0.73          2.00                   2   \n",
       "2         0.26     0.54       0.31          2.98                   2   \n",
       "3         0.09     0.21       0.02         23.69                   1   \n",
       "4         0.00     0.00       0.75          3.08                   1   \n",
       "\n",
       "                                              tweets    age  \n",
       "0  18 del compañero  😌🎉😉. salio algo de play 3🔛😊....  10-17  \n",
       "1   se fueron las otras así que vuelvo jajajaja. ...  18-24  \n",
       "2  ¡buen día mundo! ¡buenas noches mundo! \"si no ...  35-49  \n",
       "3   cambio juez: sale un bueno para nada y entra ...  10-17  \n",
       "4  creo que ya entre como 20 veces a wsp, a tw y ...  10-17  "
      ],
      "text/html": "<div>\n<style scoped>\n    .dataframe tbody tr th:only-of-type {\n        vertical-align: middle;\n    }\n\n    .dataframe tbody tr th {\n        vertical-align: top;\n    }\n\n    .dataframe thead th {\n        text-align: right;\n    }\n</style>\n<table border=\"1\" class=\"dataframe\">\n  <thead>\n    <tr style=\"text-align: right;\">\n      <th></th>\n      <th>screen_name</th>\n      <th>friends_count</th>\n      <th>tweets_count</th>\n      <th>linkedin</th>\n      <th>snapchat</th>\n      <th>instagram</th>\n      <th>facebook</th>\n      <th>followers_count</th>\n      <th>favourites_count</th>\n      <th>qtyMentions</th>\n      <th>qtyHashtags</th>\n      <th>qtyUrls</th>\n      <th>qtyEmojis</th>\n      <th>qtyUppercase</th>\n      <th>profile_pic_gender</th>\n      <th>tweets</th>\n      <th>age</th>\n    </tr>\n  </thead>\n  <tbody>\n    <tr>\n      <th>0</th>\n      <td>ezequielreal10</td>\n      <td>659</td>\n      <td>190</td>\n      <td>0</td>\n      <td>0</td>\n      <td>0</td>\n      <td>0</td>\n      <td>262</td>\n      <td>1611</td>\n      <td>0.09</td>\n      <td>0.04</td>\n      <td>0.00</td>\n      <td>2.05</td>\n      <td>4.18</td>\n      <td>0</td>\n      <td>18 del compañero  😌🎉😉. salio algo de play 3🔛😊....</td>\n      <td>10-17</td>\n    </tr>\n    <tr>\n      <th>1</th>\n      <td>caamilachaparro</td>\n      <td>1559</td>\n      <td>33525</td>\n      <td>0</td>\n      <td>0</td>\n      <td>0</td>\n      <td>0</td>\n      <td>2990</td>\n      <td>15112</td>\n      <td>0.56</td>\n      <td>0.00</td>\n      <td>0.11</td>\n      <td>0.73</td>\n      <td>2.00</td>\n      <td>2</td>\n      <td>se fueron las otras así que vuelvo jajajaja. ...</td>\n      <td>18-24</td>\n    </tr>\n    <tr>\n      <th>2</th>\n      <td>crisalonsofran</td>\n      <td>2120</td>\n      <td>24051</td>\n      <td>0</td>\n      <td>0</td>\n      <td>0</td>\n      <td>0</td>\n      <td>2160</td>\n      <td>2377</td>\n      <td>0.82</td>\n      <td>0.26</td>\n      <td>0.54</td>\n      <td>0.31</td>\n      <td>2.98</td>\n      <td>2</td>\n      <td>¡buen día mundo! ¡buenas noches mundo! \"si no ...</td>\n      <td>35-49</td>\n    </tr>\n    <tr>\n      <th>3</th>\n      <td>jluisfoglia</td>\n      <td>150</td>\n      <td>4157</td>\n      <td>0</td>\n      <td>0</td>\n      <td>0</td>\n      <td>0</td>\n      <td>98</td>\n      <td>1128</td>\n      <td>0.91</td>\n      <td>0.09</td>\n      <td>0.21</td>\n      <td>0.02</td>\n      <td>23.69</td>\n      <td>1</td>\n      <td>cambio juez: sale un bueno para nada y entra ...</td>\n      <td>10-17</td>\n    </tr>\n    <tr>\n      <th>4</th>\n      <td>maiikoldadamia</td>\n      <td>131</td>\n      <td>1096</td>\n      <td>0</td>\n      <td>0</td>\n      <td>0</td>\n      <td>0</td>\n      <td>189</td>\n      <td>849</td>\n      <td>0.20</td>\n      <td>0.00</td>\n      <td>0.00</td>\n      <td>0.75</td>\n      <td>3.08</td>\n      <td>1</td>\n      <td>creo que ya entre como 20 veces a wsp, a tw y ...</td>\n      <td>10-17</td>\n    </tr>\n  </tbody>\n</table>\n</div>"
     },
     "metadata": {},
     "execution_count": 8
    }
   ],
   "source": [
    "tweet_data = pd.read_csv('../data/tweet_data.csv')\n",
    "tweet_data.head()"
   ]
  },
  {
   "cell_type": "code",
   "execution_count": null,
   "metadata": {},
   "outputs": [],
   "source": []
  }
 ]
}